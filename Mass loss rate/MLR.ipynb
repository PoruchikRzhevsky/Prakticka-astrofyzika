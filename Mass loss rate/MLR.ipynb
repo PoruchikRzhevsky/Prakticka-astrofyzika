{
 "cells": [
  {
   "cell_type": "code",
   "execution_count": 8,
   "metadata": {},
   "outputs": [],
   "source": [
    "# Importing the libraries\n",
    "import matplotlib.pyplot as plt\n",
    "import numpy as np\n",
    "\n",
    "from uncertainties import *\n",
    "from uncertainties.unumpy import *\n",
    "from uncertainties.umath import *"
   ]
  },
  {
   "cell_type": "code",
   "execution_count": 9,
   "metadata": {},
   "outputs": [
    {
     "name": "stdout",
     "output_type": "stream",
     "text": [
      "v_rel = 2.42+/-0.09\n"
     ]
    }
   ],
   "source": [
    "# Parameters of the HD30614 (alf Cam) \n",
    "# by Lamers (1993)\n",
    "M = 43 # Solar masses\n",
    "\n",
    "v_esc = 640 # km/s\n",
    "v_inf = ufloat(1550, 60)\n",
    "v_rel = v_inf/v_esc\n",
    "\n",
    "print(f\"v_rel = {v_rel}\")\n",
    "\n",
    "T_eff = 30.9 * 10**3 # K\n",
    "\n",
    "Gamma = 0.32 # ratio between the gravitational acceleration and the radiative acceleration\n",
    "\n",
    "# by Markova (2004)\n",
    "L = 10**(5.71) # Luminosity of the star in Lsun \n",
    "R = 24.9 # Solar radiuses\n",
    "\n",
    "# by Giess (1987)\n",
    "L_ra = 10**(5.51) # Luminosity (runaway)\n",
    "R_ra = 19.2 # Radius (runaway)"
   ]
  },
  {
   "cell_type": "code",
   "execution_count": 10,
   "metadata": {},
   "outputs": [
    {
     "name": "stdout",
     "output_type": "stream",
     "text": [
      "Mass Loss Rate (Vink 2000): (1.75+/-0.44)e-08 Msun/yr\n",
      "Mass Loss Rate (Vink 2000 + Giess 1987): (6.38+/-1.61)e-09 Msun/yr\n",
      "\n",
      "Characteristic wind dencity: (1.21+/-2.48)e-14 g/cm^3\n",
      "\n",
      "Mass Loss Rate (Vink 2000 Bi-Stability Jump): (2.93+/-5.99)e-07 Msun/yr\n",
      "Mass Loss Rate (Vink 2000 Bi-Stability Jump + Giess 1987): (1.74+/-3.56)e-07 Msun/yr\n"
     ]
    }
   ],
   "source": [
    "# Calculations done by Vink, J. S. et al. (2000) \n",
    "M_dot = 10**(-ufloat(6.6927,0.061) + ufloat(2.194,0.021) * log(L/1e5, 10) - ufloat(1.313,0.046) * log(M, 10) - ufloat(1.226,0.037) * log(v_rel/2) + ufloat(0.933,0.064) * log(T_eff/40000, 10) - ufloat(10.92,0.9) * log(T_eff/40000, 10)**2)\n",
    "\n",
    "M_dot_ra = 10**(-ufloat(6.6927,0.061) + ufloat(2.194,0.021) * log(L_ra/1e5, 10) - ufloat(1.313,0.046) * log(M, 10) - ufloat(1.226,0.037) * log(v_rel/2) + ufloat(0.933,0.064) * log(T_eff/40000, 10) - ufloat(10.92,0.9) * log(T_eff/40000, 10)**2)\n",
    "\n",
    "print(f\"Mass Loss Rate (Vink 2000): {M_dot:.2e} Msun/yr\")\n",
    "print(f\"Mass Loss Rate (Vink 2000 + Giess 1987): {M_dot_ra:.2e} Msun/yr\")\n",
    "\n",
    "# Calculations done by Vink, J. S. et al. (2000) for bi-stability jump \n",
    "rho = 10**(-ufloat(14.94,0.54) + ufloat(3.2,2.2) * Gamma) # g/cm^3\n",
    "\n",
    "M_dot_bi = rho * 8 * np.pi * R**2 * v_inf\n",
    "\n",
    "M_dot_bi_ra = rho * 8 * np.pi * R_ra**2 * v_inf\n",
    "\n",
    "print(f\"\\nCharacteristic wind dencity: {rho:.2e} g/cm^3\")\n",
    "print(f\"\\nMass Loss Rate (Vink 2000 Bi-Stability Jump): {M_dot_bi:.2e} Msun/yr\")\n",
    "print(f\"Mass Loss Rate (Vink 2000 Bi-Stability Jump + Giess 1987): {M_dot_bi_ra:.2e} Msun/yr\")"
   ]
  },
  {
   "cell_type": "code",
   "execution_count": 13,
   "metadata": {},
   "outputs": [
    {
     "data": {
      "image/png": "[encoded data removed]",
      "text/plain": [
       "<Figure size 1000x600 with 1 Axes>"
      ]
     },
     "metadata": {},
     "output_type": "display_data"
    }
   ],
   "source": [
    "M_values = [M_dot.nominal_value, M_dot_ra.nominal_value, M_dot_bi.nominal_value, M_dot_bi_ra.nominal_value]\n",
    "\n",
    "plt.rc(\"font\", size=10)\n",
    "plt.rcParams['font.family'] = 'Liberation Serif'\n",
    "\n",
    "fig, ax = plt.subplots(figsize=(10, 6))\n",
    "\n",
    "ax.set_xlabel(r'$\\dot{M}$')\n",
    "ax.xaxis.label.set_fontsize(20)\n",
    "ax.set_ylabel('Frequency')\n",
    "ax.yaxis.label.set_fontsize(20)\n",
    "ax.tick_params(axis=\"both\", which=\"major\", length=10, width=0.5, labelsize=15)\n",
    "ax.tick_params(axis=\"both\", which=\"minor\", length=5, width=0.5, labelsize=15)\n",
    "plt.tight_layout()  \n",
    "\n",
    "ax.hist(M_values, bins=5, edgecolor='black')\n",
    "\n",
    "plt.savefig('images/hist.png')\n",
    "plt.show()"
   ]
  }
 ],
 "metadata": {
  "kernelspec": {
   "display_name": "base",
   "language": "python",
   "name": "python3"
  },
  "language_info": {
   "codemirror_mode": {
    "name": "ipython",
    "version": 3
   },
   "file_extension": ".py",
   "mimetype": "text/x-python",
   "name": "python",
   "nbconvert_exporter": "python",
   "pygments_lexer": "ipython3",
   "version": "3.12.7"
  }
 },
 "nbformat": 4,
 "nbformat_minor": 2
}
