{
 "cells": [
  {
   "cell_type": "code",
   "execution_count": 19,
   "metadata": {},
   "outputs": [],
   "source": [
    "# Importing the libraries\n",
    "import matplotlib.pyplot as plt\n",
    "import numpy as np\n",
    "import pandas as pd\n",
    "\n",
    "from scipy import stats"
   ]
  },
  {
   "cell_type": "code",
   "execution_count": 20,
   "metadata": {},
   "outputs": [],
   "source": [
    "# Importing data\n",
    "data = pd.read_csv('data/data.csv')"
   ]
  },
  {
   "cell_type": "code",
   "execution_count": 21,
   "metadata": {},
   "outputs": [
    {
     "data": {
      "text/html": [
       "<div>\n",
       "<style scoped>\n",
       "    .dataframe tbody tr th:only-of-type {\n",
       "        vertical-align: middle;\n",
       "    }\n",
       "\n",
       "    .dataframe tbody tr th {\n",
       "        vertical-align: top;\n",
       "    }\n",
       "\n",
       "    .dataframe thead th {\n",
       "        text-align: right;\n",
       "    }\n",
       "</style>\n",
       "<table border=\"1\" class=\"dataframe\">\n",
       "  <thead>\n",
       "    <tr style=\"text-align: right;\">\n",
       "      <th></th>\n",
       "      <th>val</th>\n",
       "      <th>err</th>\n",
       "    </tr>\n",
       "  </thead>\n",
       "  <tbody>\n",
       "    <tr>\n",
       "      <th>0</th>\n",
       "      <td>0.82</td>\n",
       "      <td>0.07</td>\n",
       "    </tr>\n",
       "    <tr>\n",
       "      <th>1</th>\n",
       "      <td>0.39</td>\n",
       "      <td>0.07</td>\n",
       "    </tr>\n",
       "    <tr>\n",
       "      <th>2</th>\n",
       "      <td>0.11</td>\n",
       "      <td>0.07</td>\n",
       "    </tr>\n",
       "    <tr>\n",
       "      <th>3</th>\n",
       "      <td>0.26</td>\n",
       "      <td>0.05</td>\n",
       "    </tr>\n",
       "    <tr>\n",
       "      <th>4</th>\n",
       "      <td>0.39</td>\n",
       "      <td>0.03</td>\n",
       "    </tr>\n",
       "    <tr>\n",
       "      <th>5</th>\n",
       "      <td>0.69</td>\n",
       "      <td>0.05</td>\n",
       "    </tr>\n",
       "    <tr>\n",
       "      <th>6</th>\n",
       "      <td>0.23</td>\n",
       "      <td>0.04</td>\n",
       "    </tr>\n",
       "    <tr>\n",
       "      <th>7</th>\n",
       "      <td>0.47</td>\n",
       "      <td>0.04</td>\n",
       "    </tr>\n",
       "    <tr>\n",
       "      <th>8</th>\n",
       "      <td>0.54</td>\n",
       "      <td>0.05</td>\n",
       "    </tr>\n",
       "    <tr>\n",
       "      <th>9</th>\n",
       "      <td>0.81</td>\n",
       "      <td>0.05</td>\n",
       "    </tr>\n",
       "    <tr>\n",
       "      <th>10</th>\n",
       "      <td>0.39</td>\n",
       "      <td>0.04</td>\n",
       "    </tr>\n",
       "    <tr>\n",
       "      <th>11</th>\n",
       "      <td>0.41</td>\n",
       "      <td>0.05</td>\n",
       "    </tr>\n",
       "    <tr>\n",
       "      <th>12</th>\n",
       "      <td>0.57</td>\n",
       "      <td>0.03</td>\n",
       "    </tr>\n",
       "    <tr>\n",
       "      <th>13</th>\n",
       "      <td>0.33</td>\n",
       "      <td>0.05</td>\n",
       "    </tr>\n",
       "    <tr>\n",
       "      <th>14</th>\n",
       "      <td>0.43</td>\n",
       "      <td>0.04</td>\n",
       "    </tr>\n",
       "    <tr>\n",
       "      <th>15</th>\n",
       "      <td>0.52</td>\n",
       "      <td>0.04</td>\n",
       "    </tr>\n",
       "    <tr>\n",
       "      <th>16</th>\n",
       "      <td>0.42</td>\n",
       "      <td>0.04</td>\n",
       "    </tr>\n",
       "    <tr>\n",
       "      <th>17</th>\n",
       "      <td>0.41</td>\n",
       "      <td>0.04</td>\n",
       "    </tr>\n",
       "    <tr>\n",
       "      <th>18</th>\n",
       "      <td>0.97</td>\n",
       "      <td>0.03</td>\n",
       "    </tr>\n",
       "    <tr>\n",
       "      <th>19</th>\n",
       "      <td>0.45</td>\n",
       "      <td>0.03</td>\n",
       "    </tr>\n",
       "  </tbody>\n",
       "</table>\n",
       "</div>"
      ],
      "text/plain": [
       "     val   err\n",
       "0   0.82  0.07\n",
       "1   0.39  0.07\n",
       "2   0.11  0.07\n",
       "3   0.26  0.05\n",
       "4   0.39  0.03\n",
       "5   0.69  0.05\n",
       "6   0.23  0.04\n",
       "7   0.47  0.04\n",
       "8   0.54  0.05\n",
       "9   0.81  0.05\n",
       "10  0.39  0.04\n",
       "11  0.41  0.05\n",
       "12  0.57  0.03\n",
       "13  0.33  0.05\n",
       "14  0.43  0.04\n",
       "15  0.52  0.04\n",
       "16  0.42  0.04\n",
       "17  0.41  0.04\n",
       "18  0.97  0.03\n",
       "19  0.45  0.03"
      ]
     },
     "execution_count": 21,
     "metadata": {},
     "output_type": "execute_result"
    }
   ],
   "source": [
    "data"
   ]
  },
  {
   "cell_type": "code",
   "execution_count": 22,
   "metadata": {},
   "outputs": [
    {
     "name": "stdout",
     "output_type": "stream",
     "text": [
      "n = 20\n"
     ]
    }
   ],
   "source": [
    "# a)\n",
    "n = len(data['val'])\n",
    "\n",
    "print('n =', n)"
   ]
  },
  {
   "cell_type": "code",
   "execution_count": 23,
   "metadata": {},
   "outputs": [
    {
     "name": "stdout",
     "output_type": "stream",
     "text": [
      "K = 0.0016903756869546885\n"
     ]
    }
   ],
   "source": [
    "# b)\n",
    "K = n / np.sum(data['err']**(-2))\n",
    "\n",
    "data['weight'] = K * data['err']**(-2)\n",
    "\n",
    "print('K =', K)"
   ]
  },
  {
   "cell_type": "code",
   "execution_count": 24,
   "metadata": {},
   "outputs": [
    {
     "data": {
      "text/plain": [
       "2.0"
      ]
     },
     "execution_count": 24,
     "metadata": {},
     "output_type": "execute_result"
    }
   ],
   "source": [
    "np.power(4, 1/2)"
   ]
  },
  {
   "cell_type": "code",
   "execution_count": 25,
   "metadata": {},
   "outputs": [
    {
     "name": "stdout",
     "output_type": "stream",
     "text": [
      "S_w = 19.999999999999993\n",
      "\n",
      "y_m = 0.4805\n",
      "y_m_w = 0.5006539664895479\n",
      "\n",
      "md = 0.15565\n",
      "md_w = 0.15061685384143003\n",
      "\n",
      "y_g = 0.4349901830654691\n",
      "\n",
      "y_h = 0.3816388792659733\n",
      "\n",
      "y_q = 0.5220680032332953\n",
      "\n",
      "med = 0.425\n",
      "med_w = 0.41\n"
     ]
    }
   ],
   "source": [
    "# c)\n",
    "S_w = np.sum(data['weight'])\n",
    "\n",
    "# arithmetic mean\n",
    "y_m = np.sum(data['val']) / n #unweighted\n",
    "y_m_w = np.sum(data['weight'] * data['val']) / S_w #weighted\n",
    "\n",
    "print('S_w =', S_w)\n",
    "print('\\ny_m =', y_m)\n",
    "print('y_m_w =', y_m_w)\n",
    "\n",
    "# arithmetic mean error\n",
    "md = np.mean(np.abs(data['val'] - y_m))\n",
    "md_w = 1/S_w * np.sum(data['weight'] * np.abs(data['val'] - y_m_w))\n",
    "\n",
    "print('\\nmd =', md)\n",
    "print('md_w =', md_w)\n",
    "\n",
    "# geometric mean\n",
    "y_g = np.power(np.prod(data['val']), 1/n)\n",
    "\n",
    "print('\\ny_g =', y_g)\n",
    "\n",
    "# harmonic mean\n",
    "y_h = n / np.sum(1 / data['val'])\n",
    "\n",
    "print('\\ny_h =', y_h)\n",
    "\n",
    "# quadratic mean\n",
    "y_q = np.sqrt(1/n * np.sum(data['val']**2))\n",
    "\n",
    "print('\\ny_q =', y_q)\n",
    "\n",
    "# median\n",
    "med = np.median(data['val'])\n",
    "\n",
    "sorted_indices = np.argsort(data['val'])\n",
    "sorted_data = data['val'][sorted_indices]\n",
    "sorted_weights = data['weight'][sorted_indices]\n",
    "\n",
    "cum_weights = np.cumsum(sorted_weights)\n",
    "half_total_weight = np.sum(data['weight']) / 2\n",
    "\n",
    "med_w = sorted_data[np.where(cum_weights >= half_total_weight)[0][0]]\n",
    "\n",
    "print('\\nmed =', med)\n",
    "print('med_w =', med_w)\n"
   ]
  },
  {
   "cell_type": "code",
   "execution_count": 26,
   "metadata": {},
   "outputs": [
    {
     "name": "stdout",
     "output_type": "stream",
     "text": [
      "y_min = 0.11\n",
      "y_max = 0.97\n",
      "\n",
      "rozp = 0.86\n"
     ]
    }
   ],
   "source": [
    "# d)\n",
    "y_min = np.min(data['val'])\n",
    "y_max = np.max(data['val'])\n",
    "\n",
    "rozp = y_max - y_min\n",
    "\n",
    "print('y_min =', y_min)\n",
    "print('y_max =', y_max)\n",
    "print('\\nrozp =', rozp)"
   ]
  },
  {
   "cell_type": "code",
   "execution_count": 27,
   "metadata": {},
   "outputs": [
    {
     "name": "stdout",
     "output_type": "stream",
     "text": [
      "s_sqr = 0.04386815789473684\n",
      "s_w_sqr = 0.04047914887147224\n",
      "\n",
      "s = sigma = 0.20944726757524634\n",
      "s_w = 0.20119430626007348\n",
      "\n",
      "md = 0.15565\n",
      "md_w = 0.15061685384143003\n",
      "\n",
      "mad = 0.095\n",
      "mad_w = 0.13000000000000006\n"
     ]
    }
   ],
   "source": [
    "# e)\n",
    "s_sqr = 1/(n-1) * np.sum((data['val'] - y_m)**2) #unweighted\n",
    "s_w_sqr = 1/S_w * np.sum(data['weight'] * (data['val'] - y_m_w)**2) #weighted\n",
    "\n",
    "print('s_sqr =', s_sqr)\n",
    "print('s_w_sqr =', s_w_sqr)\n",
    "\n",
    "s = np.sqrt(s_sqr)\n",
    "s_w = np.sqrt(s_w_sqr)\n",
    "\n",
    "print('\\ns = sigma =', s)\n",
    "print('s_w =', s_w)\n",
    "\n",
    "md = 1/n * np.sum(np.abs(data['val'] - y_m))\n",
    "md_w = 1/S_w * np.sum(data['weight'] * np.abs(data['val'] - y_m_w))\n",
    "\n",
    "print('\\nmd =', md)\n",
    "print('md_w =', md_w)\n",
    "\n",
    "absolute_deviations = np.abs(sorted_data - med)\n",
    "mad = np.median(absolute_deviations)\n",
    "\n",
    "def weighted_median(data, weights):\n",
    "    sorted_indices = np.argsort(data)\n",
    "    sorted_data = data[sorted_indices]\n",
    "    sorted_weights = weights[sorted_indices]\n",
    "    cumulative_weights = np.cumsum(sorted_weights)\n",
    "    \n",
    "    total_weight = np.sum(weights)\n",
    "    median_weight = total_weight / 2\n",
    "    median_index = np.where(cumulative_weights >= median_weight)[0][0]\n",
    "    return sorted_data[median_index]\n",
    "\n",
    "def wmad(data, weights):\n",
    "    median = weighted_median(data, weights)\n",
    "    \n",
    "    absolute_deviations = np.abs(data - median)\n",
    "    \n",
    "    return weighted_median(absolute_deviations, weights)\n",
    "\n",
    "mad_w = wmad(data['val'], data['weight'])\n",
    "\n",
    "print('\\nmad =', mad)\n",
    "print('mad_w =', mad_w)"
   ]
  },
  {
   "cell_type": "code",
   "execution_count": 28,
   "metadata": {},
   "outputs": [
    {
     "name": "stdout",
     "output_type": "stream",
     "text": [
      "Q1 = 0.39\n",
      "Q2 = median = 0.425\n",
      "Q3 = 0.5475\n"
     ]
    }
   ],
   "source": [
    "# f)\n",
    "cumulative_distribution = np.arange(1, len(sorted_data) + 1) / len(sorted_data)\n",
    "\n",
    "Q1 = np.percentile(sorted_data, 25)\n",
    "Q2 = np.percentile(sorted_data, 50)\n",
    "Q3 = np.percentile(sorted_data, 75)\n",
    "\n",
    "print('Q1 =', Q1)\n",
    "print('Q2 = median =', Q2)\n",
    "print('Q3 =', Q3)"
   ]
  },
  {
   "cell_type": "code",
   "execution_count": 29,
   "metadata": {},
   "outputs": [
    {
     "name": "stderr",
     "output_type": "stream",
     "text": [
      "No artists with labels found to put in legend.  Note that artists whose label start with an underscore are ignored when legend() is called with no argument.\n"
     ]
    },
    {
     "data": {
      "image/png": "[encoded data removed]",
      "text/plain": [
       "<Figure size 1000x600 with 1 Axes>"
      ]
     },
     "metadata": {},
     "output_type": "display_data"
    }
   ],
   "source": [
    "plt.rc(\"font\", size=10)\n",
    "plt.rcParams[\"font.family\"] = \"Times New Roman\"\n",
    "\n",
    "fig, ax = plt.subplots(figsize=(10, 6))\n",
    "\n",
    "ax.set_xlabel('Measurments')\n",
    "ax.xaxis.label.set_fontsize(20)\n",
    "ax.set_ylabel('Probability')\n",
    "ax.yaxis.label.set_fontsize(20)\n",
    "ax.tick_params(axis=\"both\", which=\"major\", length=10, width=0.5, labelsize=15)\n",
    "ax.tick_params(axis=\"both\", which=\"minor\", length=5, width=0.5, labelsize=15)\n",
    "plt.tight_layout()  \n",
    "\n",
    "ax.scatter(sorted_data, cumulative_distribution, color='b')\n",
    "ax.plot(sorted_data, cumulative_distribution, color='b')\n",
    "\n",
    "ax.legend(loc='upper left', fontsize=15)\n",
    "\n",
    "plt.savefig('images/com_dist.png')\n",
    "\n",
    "plt.show()"
   ]
  },
  {
   "cell_type": "code",
   "execution_count": 30,
   "metadata": {},
   "outputs": [
    {
     "name": "stdout",
     "output_type": "stream",
     "text": [
      "mu_a = 0.4805\n",
      "mu_m = 0.425\n",
      "\n",
      "sigma_s = 0.21488836243558954\n",
      "sigma_w = 0.20642100278562597\n"
     ]
    }
   ],
   "source": [
    "# g)\n",
    "mu_a = np.mean(data['val'])\n",
    "mu_m = np.median(sorted_data)\n",
    "\n",
    "print('mu_a =', mu_a)\n",
    "print('mu_m =', mu_m)\n",
    "\n",
    "sigma_s = s * np.sqrt(n / (n - 1))\n",
    "sigma_w = s_w * np.sqrt(n / (n - 1))\n",
    "\n",
    "print('\\nsigma_s =', sigma_s)\n",
    "print('sigma_w =', sigma_w)"
   ]
  },
  {
   "cell_type": "code",
   "execution_count": 31,
   "metadata": {},
   "outputs": [
    {
     "name": "stdout",
     "output_type": "stream",
     "text": [
      "\n",
      "n_h = 5\n"
     ]
    },
    {
     "data": {
      "image/png": "[encoded data removed]",
      "text/plain": [
       "<Figure size 1000x600 with 1 Axes>"
      ]
     },
     "metadata": {},
     "output_type": "display_data"
    }
   ],
   "source": [
    "# i)\n",
    "n_h = int(1 + 3.3 * np.log10(n))\n",
    "print('\\nn_h =', n_h)\n",
    "\n",
    "bin_min = np.floor(y_min / 0.2) * 0.2\n",
    "bin_max = np.ceil(y_max / 0.2) * 0.2\n",
    "bins = np.arange(bin_min, bin_max + 0.2, 0.2)\n",
    "\n",
    "fig, ax = plt.subplots(figsize=(10, 6))\n",
    "\n",
    "ax.set_xlabel('Extinction coefficient [mag/airmass]')\n",
    "ax.xaxis.label.set_fontsize(20)\n",
    "ax.set_ylabel('Frequency')\n",
    "ax.yaxis.label.set_fontsize(20)\n",
    "ax.tick_params(axis=\"both\", which=\"major\", length=10, width=0.5, labelsize=15)\n",
    "ax.tick_params(axis=\"both\", which=\"minor\", length=5, width=0.5, labelsize=15)\n",
    "plt.tight_layout()  \n",
    "\n",
    "ax.hist(data['val'], bins=bins, edgecolor='black')\n",
    "\n",
    "plt.savefig('images/histogram.png')\n",
    "\n",
    "plt.show()\n"
   ]
  },
  {
   "cell_type": "code",
   "execution_count": 32,
   "metadata": {},
   "outputs": [
    {
     "name": "stdout",
     "output_type": "stream",
     "text": [
      "mode_value = 0.39 count = 3.0\n"
     ]
    }
   ],
   "source": [
    "# j)\n",
    "mode_value, count = stats.mode(data)\n",
    "\n",
    "print('mode_value =', mode_value[0], 'count =', count[0])"
   ]
  },
  {
   "cell_type": "code",
   "execution_count": 33,
   "metadata": {},
   "outputs": [],
   "source": [
    "data['weight'] = data['weight'].round(3)\n",
    "\n",
    "data.to_csv('data/data_proc.csv', index=False)"
   ]
  }
 ],
 "metadata": {
  "kernelspec": {
   "display_name": "base",
   "language": "python",
   "name": "python3"
  },
  "language_info": {
   "codemirror_mode": {
    "name": "ipython",
    "version": 3
   },
   "file_extension": ".py",
   "mimetype": "text/x-python",
   "name": "python",
   "nbconvert_exporter": "python",
   "pygments_lexer": "ipython3",
   "version": "3.10.11"
  }
 },
 "nbformat": 4,
 "nbformat_minor": 2
}
